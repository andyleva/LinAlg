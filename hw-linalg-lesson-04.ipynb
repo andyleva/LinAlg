{
 "cells": [
  {
   "cell_type": "markdown",
   "metadata": {},
   "source": [
    "### Домашнее задание №4"
   ]
  },
  {
   "cell_type": "markdown",
   "metadata": {},
   "source": [
    "# Системы линейных уравнений"
   ]
  },
  {
   "cell_type": "markdown",
   "metadata": {},
   "source": [
    "# часть 1"
   ]
  },
  {
   "cell_type": "markdown",
   "metadata": {},
   "source": [
    "_1.__ Решить систему уравнений методом Гаусса:\n",
    "\n",
    "$$\\begin{cases}\n",
    "x_{1}+x_{2}-x_{3}-2x_{4}=0, \\\\\n",
    "2x_{1}+x_{2}-x_{3}+x_{4}=-2, \\\\\n",
    "x_{1}+x_{2}-3x_{3}+x_{4}=4.\n",
    "\\end{cases}$$\n",
    "\n"
   ]
  },
  {
   "cell_type": "markdown",
   "metadata": {},
   "source": [
    "Запишем расширенную матрицу системы:\n",
    "\n",
    "$$\\begin{pmatrix}\n",
    "\\left.\\begin{matrix}\n",
    "1 & 1 & -1 & -2 \\\\ \n",
    "2 & 1 & -1 & 1 \\\\ \n",
    "1 & 1 & -3 & 1\n",
    "\\end{matrix}\\right|\n",
    "\\begin{matrix}\n",
    "0\\\\ \n",
    "-2\\\\\n",
    "4\n",
    "\\end{matrix}\n",
    "\\end{pmatrix}.$$\n",
    "\n",
    "Путем элементарных преобразований постараемся привести матрицу к ступенчатому виду.\n",
    "\n",
    "Вычтем из второй строки первую, умноженную на 2:\n",
    "\n",
    "$$\\begin{pmatrix}\n",
    "\\left.\\begin{matrix}\n",
    "1 & 1 & -1 & -2 \\\\ \n",
    "0 & -1 & 1 & 5 \\\\ \n",
    "1 & 1 & -3 & 1\n",
    "\\end{matrix}\\right|\n",
    "\\begin{matrix}\n",
    "0\\\\ \n",
    "-2\\\\\n",
    "4\n",
    "\\end{matrix}\n",
    "\\end{pmatrix}.$$\n",
    "\n",
    "Отнимем от третьей строки первую:\n",
    "\n",
    "$$\\begin{pmatrix}\n",
    "\\left.\\begin{matrix}\n",
    "1 & 1 & -1 & -2\\\\ \n",
    "0 & -1 & 1 & 5\\\\ \n",
    "0 & 0 & -2 & 3\n",
    "\\end{matrix}\\right|\n",
    "\\begin{matrix}\n",
    "0\\\\ \n",
    "-2\\\\\n",
    "4\n",
    "\\end{matrix}\n",
    "\\end{pmatrix}.$$\n",
    "\n"
   ]
  },
  {
   "cell_type": "markdown",
   "metadata": {},
   "source": [
    "Полученная система будет иметь вид\n",
    "\n",
    "$$\\begin{cases}\n",
    "x_{1}+x_{2}-x_{3}- 2x_{4}=0, \\\\\n",
    "~~~~~~~-x_{2}+x_{3}+5x_{4}=-2, \\\\\n",
    "~~~~~~~~~~-2x_{3}+3x_{4}=4. \\\\\n",
    "\\end{cases}$$"
   ]
  },
  {
   "cell_type": "markdown",
   "metadata": {},
   "source": [
    "Приняв $x_{4}=c$, получим общее решение системы:\n",
    "\n",
    "$$x_{4}=c$$\n",
    "\n",
    "$$x_{3} = (4-3c)/-2=-2+3/2c=3/2c-2,$$\n",
    "\n",
    "$$-x_{2} + 3/2c - 2 + 5c = -2 => x_{2} = 13/2c$$\n",
    "\n",
    "$$x_{1} + 13/2c - 3/2c + 2 - 2c = 0 =>  x_{1} + 3c + 2 = 0 =>$$\n",
    "$$x_{1} = -2-3c$$"
   ]
  },
  {
   "cell_type": "markdown",
   "metadata": {},
   "source": [
    "при $c=0$\n",
    "$$x_{1}=-2$$\n",
    "$$x_{2}=0$$\n",
    "$$x_{3}=-2$$\n",
    "$$x_{4}=0$$\n",
    "подставляя в уравнение - получаем частное решение $c(-2,0,-,0)$"
   ]
  },
  {
   "cell_type": "markdown",
   "metadata": {},
   "source": [
    "__2.__ Проверить на совместность и выяснить, сколько решений будет иметь система линейных уравнений:\n",
    "\n",
    "   а) $\\begin{cases}\n",
    "3x_{1}-x_{2}+x_{3}=4, \\\\\n",
    "2x_{1}-5x_{2}-3x_{3}=-17, \\\\\n",
    "x_{1}+x_{2}-x_{3}=0;\n",
    "\\end{cases}$\n",
    "    \n",
    "   б) $\\begin{cases}\n",
    "2x_{1}-4x_{2}+6x_{3}=1, \\\\\n",
    "x_{1}-2x_{2}+3x_{3}=-2, \\\\\n",
    "3x_{1}-6x_{2}+9x_{3}=5;\n",
    "\\end{cases}$\n",
    "    \n",
    "   в) $\\begin{cases}\n",
    "x_{1}+2x_{2}+5x_{3}=4, \\\\\n",
    "3x_{1}+x_{2}-8x_{3}=-2. \n",
    "\\end{cases}$\n",
    "\n",
    "\n"
   ]
  },
  {
   "cell_type": "code",
   "execution_count": 1,
   "metadata": {},
   "outputs": [],
   "source": [
    "import numpy as np"
   ]
  },
  {
   "cell_type": "code",
   "execution_count": 2,
   "metadata": {},
   "outputs": [],
   "source": [
    "def examination(a,b):\n",
    "    n = a.shape[0]\n",
    "    print(f'n : {n}')\n",
    "    ra= np.linalg.matrix_rank(a)\n",
    "    print(f'Ранг матрицы a: {ra}')\n",
    "    rb= np.linalg.matrix_rank(b)\n",
    "    print(f'Ранг матрицы b: {rb}')\n",
    "    if ra==rb:\n",
    "        if ra==rb==n:\n",
    "            print('Совместная определенная система им. ед решение')\n",
    "        else:\n",
    "            print('Совместная неопределенная система им. множество решений')\n",
    "    else:\n",
    "        print('НЕсовместная система не им. решений')"
   ]
  },
  {
   "cell_type": "code",
   "execution_count": 3,
   "metadata": {},
   "outputs": [
    {
     "name": "stdout",
     "output_type": "stream",
     "text": [
      "n : 3\n",
      "Ранг матрицы a: 3\n",
      "Ранг матрицы b: 3\n",
      "Совместная определенная система им. ед решение\n"
     ]
    }
   ],
   "source": [
    "#a)\n",
    "a = np.array([[3, -1, 1], [2, -5, -3], [1, 1, -1]])\n",
    "b = np.array([[3, -1, 1, 4], [2, -5, -3, -17], [1, 1, -1, 0]])\n",
    "examination(a,b)"
   ]
  },
  {
   "cell_type": "code",
   "execution_count": 4,
   "metadata": {},
   "outputs": [
    {
     "name": "stdout",
     "output_type": "stream",
     "text": [
      "n : 3\n",
      "Ранг матрицы a: 1\n",
      "Ранг матрицы b: 2\n",
      "НЕсовместная система не им. решений\n"
     ]
    }
   ],
   "source": [
    "#б)\n",
    "a = np.array([[2, -4, 6], [1, -2, 3], [3, -6, 9]])\n",
    "b = np.array([[2, -4, 6, 1], [1, -2, 3, -2], [3, -6, 9, 5]])\n",
    "examination(a,b)"
   ]
  },
  {
   "cell_type": "code",
   "execution_count": 5,
   "metadata": {},
   "outputs": [
    {
     "name": "stdout",
     "output_type": "stream",
     "text": [
      "n : 2\n",
      "Ранг матрицы a: 2\n",
      "Ранг матрицы b: 2\n",
      "Совместная определенная система им. ед решение\n"
     ]
    }
   ],
   "source": [
    "#в)\n",
    "a = np.array([[1, 2, 5], [3, 1, -8]])\n",
    "a = np.array([[1, 2, 5, 4], [3, 1, -8, -2]])\n",
    "examination(a,b)"
   ]
  },
  {
   "cell_type": "markdown",
   "metadata": {},
   "source": [
    "__3.__ Проверить на совместность и выяснить, сколько решений будет иметь система линейных уравнений, заданная расширенной матрицей\n",
    "\n",
    "$$\\tilde{A}=\\begin{pmatrix}\n",
    "\\left.\\begin{matrix}\n",
    "1 & 3 & -2 & 4\\\\ \n",
    "0 & 5 & 0 & 1\\\\ \n",
    "0 & 0 & 3 & 0\\\\ \n",
    "0 & 0 & 0 & 2\n",
    "\\end{matrix}\\right|\n",
    "\\begin{matrix}\n",
    "3\\\\ \n",
    "2\\\\\n",
    "4\\\\\n",
    "1\n",
    "\\end{matrix}\n",
    "\\end{pmatrix}.$$\n",
    "\n"
   ]
  },
  {
   "cell_type": "code",
   "execution_count": 6,
   "metadata": {},
   "outputs": [
    {
     "name": "stdout",
     "output_type": "stream",
     "text": [
      "n : 4\n",
      "Ранг матрицы a: 4\n",
      "Ранг матрицы b: 4\n",
      "Совместная определенная система им. ед решение\n"
     ]
    }
   ],
   "source": [
    "a = np.array([[2, 3, -2, 4], [0, 5, 0, 1], [0, 0, 3, 0], [0,0,0,2]])\n",
    "b = np.array([[2, 3, -2, 4,3], [0, 5, 0, 1,2], [0, 0, 3, 0,4], [0,0,0,2,1]])\n",
    "examination(a,b)"
   ]
  },
  {
   "cell_type": "markdown",
   "metadata": {},
   "source": [
    "__4.__ Дана система линейных уравнений, заданная расширенной матрицей\n",
    "\n",
    "$$\\tilde{A}=\\begin{pmatrix}\n",
    "\\left.\\begin{matrix}\n",
    "1 & 2 & 3\\\\ \n",
    "4 & 5 & 6\\\\ \n",
    "7 & 8 & 9\n",
    "\\end{matrix}\\right|\n",
    "\\begin{matrix}\n",
    "a\\\\ \n",
    "b\\\\\n",
    "c\n",
    "\\end{matrix}\n",
    "\\end{pmatrix}.$$\n",
    "\n",
    "Найти соотношение между параметрами $a$, $b$ и $c$, при которых система является несовместной."
   ]
  },
  {
   "cell_type": "markdown",
   "metadata": {},
   "source": [
    "Сложим 1 и 3 строки:\n",
    "\n",
    "$$\\begin{pmatrix}\n",
    "\\left.\\begin{matrix}\n",
    "1 & 2 & 3\\\\ \n",
    "4 & 5 & 6\\\\ \n",
    "8 & 10 & 12\n",
    "\\end{matrix}\\right|\n",
    "\\begin{matrix}\n",
    "a\\\\ \n",
    "b\\\\\n",
    "a+c\n",
    "\\end{matrix}\n",
    "\\end{pmatrix}.$$\n",
    "\n",
    "от 3 отнимем 2*2\n",
    "\n",
    "$$\\begin{pmatrix}\n",
    "\\left.\\begin{matrix}\n",
    "1 & 2 & 3\\\\ \n",
    "4 & 5 & 6\\\\ \n",
    "0 & 0 & 0\n",
    "\\end{matrix}\\right|\n",
    "\\begin{matrix}\n",
    "a\\\\ \n",
    "b\\\\\n",
    "(a+c)-2b\n",
    "\\end{matrix}\n",
    "\\end{pmatrix}.$$"
   ]
  },
  {
   "cell_type": "code",
   "execution_count": 7,
   "metadata": {},
   "outputs": [
    {
     "name": "stdout",
     "output_type": "stream",
     "text": [
      "n : 3\n",
      "Ранг матрицы a: 2\n",
      "Ранг матрицы b: 3\n",
      "НЕсовместная система не им. решений\n"
     ]
    }
   ],
   "source": [
    "a,b,c = 0,1,0\n",
    "x = np.array([[1, 2, 3], [4, 5, 6], [0, 0, 0]])\n",
    "y = np.array([[1, 2, 3, a], [4, 5, 6, b], [0, 0, 0, (a+c)-2*b]])\n",
    "examination(x,y)"
   ]
  },
  {
   "cell_type": "markdown",
   "metadata": {},
   "source": [
    "# часть 2"
   ]
  },
  {
   "cell_type": "markdown",
   "metadata": {},
   "source": [
    "__1.__ Решить систему уравнений методом Крамера:\n",
    "\n",
    "   а) $\\begin{cases}\n",
    "x_{1}-2x_{2}=1 \\\\\n",
    "3x_{1}-4x_{2}=7\n",
    "\\end{cases}$\n",
    "    \n",
    "   б) $\\begin{cases}\n",
    "2x_{1}-x_{2}+5x_{3}=10 \\\\\n",
    "x_{1}+x_{2}-3x_{3}=-2 \\\\\n",
    "2x_{1}+4x_{2}+x_{3}=1\n",
    "\\end{cases}$"
   ]
  },
  {
   "cell_type": "code",
   "execution_count": 8,
   "metadata": {},
   "outputs": [
    {
     "name": "stdout",
     "output_type": "stream",
     "text": [
      "Определитель:2\n",
      "Определитель:10\n",
      "Определитель:4\n",
      "x1 = 5\n",
      "x2 = 2\n"
     ]
    }
   ],
   "source": [
    "#a)\n",
    "a = np.array([[1, -2], [3, -4]])\n",
    "a1 = np.array([[1, -2], [7, -4]])\n",
    "a2 = np.array([[1, 1], [3, 7]])\n",
    "print(f'Определитель:{np.linalg.det(a):.0f}')\n",
    "print(f'Определитель:{np.linalg.det(a1):.0f}')\n",
    "print(f'Определитель:{np.linalg.det(a2):.0f}')\n",
    "print(f'x1 = {np.linalg.det(a1)/np.linalg.det(a):.0f}')\n",
    "print(f'x2 = {np.linalg.det(a2)/np.linalg.det(a):.0f}')"
   ]
  },
  {
   "cell_type": "code",
   "execution_count": 9,
   "metadata": {},
   "outputs": [
    {
     "name": "stdout",
     "output_type": "stream",
     "text": [
      "Определитель:43\n",
      "Определитель:86\n",
      "Определитель:-43\n",
      "Определитель:43\n",
      "x1 = 2\n",
      "x2 = -1\n",
      "x3 = 1\n"
     ]
    }
   ],
   "source": [
    "#б)\n",
    "a = np.array([[2, -1, 5], [1, 1, -3], [2, 4, 1]])\n",
    "a1 = np.array([[10, -1, 5], [-2, 1, -3], [1, 4, 1]])\n",
    "a2 = np.array([[2, 10, 5], [1, -2, -3], [2, 1, 1]])\n",
    "a3 = np.array([[2, -1, 10], [1, 1, -2], [2, 4, 1]])\n",
    "print(f'Определитель:{np.linalg.det(a):.0f}')\n",
    "print(f'Определитель:{np.linalg.det(a1):.0f}')\n",
    "print(f'Определитель:{np.linalg.det(a2):.0f}')\n",
    "print(f'Определитель:{np.linalg.det(a3):.0f}')\n",
    "print(f'x1 = {np.linalg.det(a1)/np.linalg.det(a):.0f}')\n",
    "print(f'x2 = {np.linalg.det(a2)/np.linalg.det(a):.0f}')\n",
    "print(f'x3 = {np.linalg.det(a3)/np.linalg.det(a):.0f}')"
   ]
  },
  {
   "cell_type": "markdown",
   "metadata": {},
   "source": [
    "__2*.__ Найти $L$-матрицу $LU$-разложения для матрицы коэффициентов:\n",
    "\n",
    "   а)$$\\begin{pmatrix}\n",
    "1 & 2 & 4 \\\\ \n",
    "2 & 9 & 12 \\\\ \n",
    "3 & 26 & 30\n",
    "\\end{pmatrix}$$\n",
    "    \n"
   ]
  },
  {
   "cell_type": "markdown",
   "metadata": {},
   "source": [
    "отнимем из 2 строку 1*2:\n",
    "\n",
    "$$\\begin{pmatrix}\n",
    "1 & 2 & 3\\\\ \n",
    "0 & 5 & 4\\\\ \n",
    "3 & 26 & 30\n",
    "\\end{pmatrix}$$\n",
    "\n",
    "отнимем из 3 строку 1*3:\n",
    "\n",
    "$$\\begin{pmatrix}\n",
    "1 & 2 & 3\\\\ \n",
    "0 & 5 & 4\\\\ \n",
    "0 & 20 & 21\n",
    "\\end{pmatrix}$$\n",
    "\n",
    "отнимем из 3 строку 2*4:\n",
    "\n",
    "$$\\begin{pmatrix}\n",
    "1 & 2 & 3\\\\ \n",
    "0 & 5 & 4\\\\ \n",
    "0 & 0 & 5\n",
    "\\end{pmatrix}$$\n",
    "\n",
    "Матрица L:\n",
    "$$\\begin{pmatrix}\n",
    "1 & 0 & 0\\\\ \n",
    "2 & 1 & 0\\\\ \n",
    "3 & 4 & 1\n",
    "\\end{pmatrix}$$"
   ]
  },
  {
   "cell_type": "markdown",
   "metadata": {},
   "source": [
    "   б)$$\\begin{pmatrix}\n",
    "1 & 1 & 2 & 4\\\\ \n",
    "2 & 5 & 8 & 9\\\\ \n",
    "3 & 18 & 29 & 18\\\\\n",
    "4 & 22 & 53 & 33\n",
    "\\end{pmatrix}$$\n",
    "    "
   ]
  },
  {
   "cell_type": "markdown",
   "metadata": {},
   "source": [
    "отнимем из 2 строку 1*2:\n",
    "\n",
    "$$\\begin{pmatrix}\n",
    "1 & 1 & 2 & 4\\\\ \n",
    "0 & 3 & 4 & 1\\\\ \n",
    "3 & 18 & 29 & 18\\\\\n",
    "4 & 22 & 53 & 33\n",
    "\\end{pmatrix}$$\n",
    "\n",
    "отнимем из 3 строку 1*3:\n",
    "\n",
    "$$\\begin{pmatrix}\n",
    "1 & 1 & 2 & 4\\\\ \n",
    "0 & 3 & 4 & 1\\\\ \n",
    "0 & 15 & 23 & 6\\\\\n",
    "4 & 22 & 53 & 33\n",
    "\\end{pmatrix}$$\n",
    "\n",
    "отнимем из 4 строку 1*4:\n",
    "\n",
    "$$\\begin{pmatrix}\n",
    "1 & 1 & 2 & 4\\\\ \n",
    "0 & 3 & 4 & 1\\\\ \n",
    "0 & 15 & 23 & 6\\\\\n",
    "0 & 18 & 45 & 17\n",
    "\\end{pmatrix}$$\n",
    "\n",
    "отнимем из 3 строку 2*5:\n",
    "\n",
    "$$\\begin{pmatrix}\n",
    "1 & 1 & 2 & 4\\\\ \n",
    "0 & 3 & 4 & 1\\\\ \n",
    "0 & 0 & 3 & 1\\\\\n",
    "0 & 18 & 45 & 17\n",
    "\\end{pmatrix}$$\n",
    "\n",
    "отнимем из 4 строку 2*6:\n",
    "\n",
    "$$\\begin{pmatrix}\n",
    "1 & 1 & 2 & 4\\\\ \n",
    "0 & 3 & 4 & 1\\\\ \n",
    "0 & 0 & 3 & 1\\\\\n",
    "0 & 0 & 45 & 47\n",
    "\\end{pmatrix}$$\n",
    "\n",
    "отнимем из 4 строку 3*15:\n",
    "\n",
    "$$\\begin{pmatrix}\n",
    "1 & 1 & 2 & 4\\\\ \n",
    "0 & 3 & 4 & 1\\\\ \n",
    "0 & 0 & 3 & 1\\\\\n",
    "0 & 0 & 0 & 32\n",
    "\\end{pmatrix}$$\n",
    "\n",
    "Матрица L:\n",
    "$$\\begin{pmatrix}\n",
    "1 & 0 & 0 & 0\\\\ \n",
    "2 & 1 & 0 & 0\\\\ \n",
    "3 & 5 & 1 & 0\\\\\n",
    "4 & 6 & 15 & 1\n",
    "\\end{pmatrix}$$"
   ]
  },
  {
   "cell_type": "markdown",
   "metadata": {},
   "source": [
    "__3*.__ Решить систему линейных уравнений методом $LU$-разложения\n",
    "\n",
    "$$\\begin{cases}\n",
    "2x_{1}+x_{2}+3x_{3}=1 \\\\\n",
    "11x_{1}+7x_{2}+5x_{3}=-6 \\\\\n",
    "9x_{1}+8x_{2}+4x_{3}=-5\n",
    "\\end{cases}$$\n",
    "\n"
   ]
  },
  {
   "cell_type": "markdown",
   "metadata": {},
   "source": [
    "$$\\begin{pmatrix}\n",
    "2 & 1 & 3\\\\ \n",
    "11 & 7 & 5\\\\ \n",
    "9 & 8 & 4\n",
    "\\end{pmatrix}$$"
   ]
  },
  {
   "cell_type": "code",
   "execution_count": 10,
   "metadata": {},
   "outputs": [
    {
     "name": "stdout",
     "output_type": "stream",
     "text": [
      "проверка u_33 = 1.0\n"
     ]
    }
   ],
   "source": [
    "# расчет ручным способом\n",
    "a = np.array([[2, 1, 3], [11, 7, 5], [9, 8, 4]])\n",
    "l = np.array([[0., 0., 0.], [0., 0., 0.], [0., 0., 0.]])\n",
    "u = np.array([[1., 0., 0.], [0., 1., 0.], [0., 0., 1.]])\n",
    "y = np.array([[0.],[0.],[0.]])\n",
    "b = np.array([[1],[-6],[-5]])\n",
    "\n",
    "a_11 = a[0,0]\n",
    "a_12 = a[0,1]\n",
    "a_13 = a[0,2]\n",
    "a_21 = a[1,0]\n",
    "a_22 = a[1,1]\n",
    "a_23 = a[1,2]\n",
    "a_31 = a[2,0]\n",
    "a_32 = a[2,1]\n",
    "a_33 = a[2,2]\n",
    "l_11 = a_11\n",
    "l_21 = a_21\n",
    "l_31 = a_31\n",
    "u_12 = a_12 / l_11\n",
    "u_13 = a_13 / l_11\n",
    "l_22 = a_22 - l_21 * u_12\n",
    "l_32 = a_32 - l_31 * u_12\n",
    "u_23 = (a_23 - l_21* u_13)/l_22\n",
    "l_33 = a_33 -l_31 * u_13 - l_32 * u_23\n",
    "u_33 = (a_33 - l_31 * u_13 - l_32 * u_23) / l_33\n",
    "print (f'проверка u_33 = {u_33}')"
   ]
  },
  {
   "cell_type": "code",
   "execution_count": 11,
   "metadata": {},
   "outputs": [],
   "source": [
    "l[0,0] = l_11\n",
    "l[1,0] = l_21\n",
    "l[1,1] = l_22\n",
    "l[2,0] = l_31\n",
    "l[2,1] = l_32\n",
    "l[2,2] = l_33"
   ]
  },
  {
   "cell_type": "code",
   "execution_count": 12,
   "metadata": {},
   "outputs": [],
   "source": [
    "u[0,1]  = u_12\n",
    "u[0,2]  = u_13\n",
    "u[1,2]  = u_23"
   ]
  },
  {
   "cell_type": "code",
   "execution_count": 13,
   "metadata": {},
   "outputs": [
    {
     "name": "stdout",
     "output_type": "stream",
     "text": [
      "[[ 2  1  3]\n",
      " [11  7  5]\n",
      " [ 9  8  4]]\n",
      "L=:\n",
      "[[ 2.          0.          0.        ]\n",
      " [11.          1.5         0.        ]\n",
      " [ 9.          3.5        17.33333333]]\n",
      "U=:\n",
      "[[ 1.          0.5         1.5       ]\n",
      " [ 0.          1.         -7.66666667]\n",
      " [ 0.          0.          1.        ]]\n",
      "b=:\n",
      "[[ 1]\n",
      " [-6]\n",
      " [-5]]\n"
     ]
    }
   ],
   "source": [
    "print(a)\n",
    "print(f'L=:\\n{l}')\n",
    "print(f'U=:\\n{u}')\n",
    "print(f'b=:\\n{b}')"
   ]
  },
  {
   "cell_type": "code",
   "execution_count": 14,
   "metadata": {},
   "outputs": [
    {
     "name": "stdout",
     "output_type": "stream",
     "text": [
      "[[ 0.5       ]\n",
      " [-7.66666667]\n",
      " [ 1.        ]]\n"
     ]
    }
   ],
   "source": [
    "y[0] = b[0]/l_11\n",
    "y[1] = (b[1] - l_21 * y[0]) / l_22\n",
    "y[2] = (b[2] - l_31 * y[0] - l_32 * y[1])/l_33\n",
    "print(y)"
   ]
  },
  {
   "cell_type": "code",
   "execution_count": 15,
   "metadata": {},
   "outputs": [
    {
     "name": "stdout",
     "output_type": "stream",
     "text": [
      "[-7.66666667] -7.666666666666667 [1.]\n",
      "x1 = [-1.]\n",
      "x2 = [0.]\n",
      "x3 = [1.]\n"
     ]
    }
   ],
   "source": [
    "x3 = y[2]\n",
    "x2 = y[1] - u_23 * x3\n",
    "print(y[1], u_23, x3)\n",
    "x1 = y[0] - u_12* x2 - u_13*x3\n",
    "\n",
    "print(f'x1 = {x1}')\n",
    "print(f'x2 = {x2}')\n",
    "print(f'x3 = {x3}')"
   ]
  },
  {
   "cell_type": "markdown",
   "metadata": {},
   "source": [
    "проверка\n",
    "$$9x_{1}+8x_{2}+4x_{3}=-5$$"
   ]
  },
  {
   "cell_type": "code",
   "execution_count": 16,
   "metadata": {},
   "outputs": [
    {
     "data": {
      "text/plain": [
       "array([-5.])"
      ]
     },
     "execution_count": 16,
     "metadata": {},
     "output_type": "execute_result"
    }
   ],
   "source": [
    "# проверка уравнения\n",
    "9*x1+8*x2+4*x3"
   ]
  },
  {
   "cell_type": "code",
   "execution_count": 17,
   "metadata": {},
   "outputs": [
    {
     "data": {
      "text/plain": [
       "array([[ 2.,  1.,  3.],\n",
       "       [11.,  7.,  5.],\n",
       "       [ 9.,  8.,  4.]])"
      ]
     },
     "execution_count": 17,
     "metadata": {},
     "output_type": "execute_result"
    }
   ],
   "source": [
    "# проверка L*U = A\n",
    "l.dot(u)"
   ]
  },
  {
   "cell_type": "markdown",
   "metadata": {},
   "source": [
    "__4*.__ Решить систему линейных уравнений методом Холецкого\n",
    "\n",
    "$$\\begin{cases}\n",
    "81x_{1}-45x_{2}+45x_{3}=531 \\\\\n",
    "-45x_{1}+50x_{2}-15x_{3}=-460 \\\\\n",
    "45x_{1}-15x_{2}+38x_{3}=193\n",
    "\\end{cases}$$\n",
    "\n"
   ]
  },
  {
   "cell_type": "markdown",
   "metadata": {},
   "source": [
    "$$\\begin{pmatrix}\n",
    "81 & -45 & 45 \\\\ \n",
    "-45 & 50 & -15 \\\\ \n",
    "45 & -15 & 38\n",
    "\\end{pmatrix}$$"
   ]
  },
  {
   "cell_type": "code",
   "execution_count": 18,
   "metadata": {},
   "outputs": [],
   "source": [
    "import math\n",
    "def matr(a):\n",
    "    n = a.shape[0]\n",
    "    u = np.zeros((n,n))\n",
    "    for i in range(n):        \n",
    "        if i==0:\n",
    "            u[i,i] = math.sqrt(a[i,i])\n",
    "            for j in range(1,n,1):\n",
    "                u[i,j] = a[i,j] / u[i,i]\n",
    "        else:\n",
    "            if i==1:\n",
    "                u[i,i]=math.sqrt(a[i,i]-u[i-1,i]**2)\n",
    "                sm = u[i-1,i] * u[i-1,i+1]                \n",
    "                u[i,i+1]=(a[i,i+1]-sm)/u[i,i]                \n",
    "            else:\n",
    "                u[i,i] = math.sqrt(a[i,i] - u[i-2,i]**2 - u[i-1,i]**2)\n",
    "                        \n",
    "    return u"
   ]
  },
  {
   "cell_type": "code",
   "execution_count": 19,
   "metadata": {},
   "outputs": [
    {
     "name": "stdout",
     "output_type": "stream",
     "text": [
      "[[ 81 -45  45]\n",
      " [-45  50 -15]\n",
      " [ 45 -15  38]]\n",
      "[[ 9.  0.  0.]\n",
      " [-5.  5.  0.]\n",
      " [ 5.  2.  3.]]\n"
     ]
    }
   ],
   "source": [
    "a = np.array([[81,-45,45],[-45,50,-15],[45,-15,38]])\n",
    "#a = np.array([[2,1,4],[1,1,3],[4,3,14]])\n",
    "#b = np.array([[16],[12],[52]])\n",
    "b = np.array([[531],[-460],[193]])\n",
    "print(a)\n",
    "U = matr(a)\n",
    "UT = U.T\n",
    "print(UT)"
   ]
  },
  {
   "cell_type": "code",
   "execution_count": 20,
   "metadata": {},
   "outputs": [
    {
     "name": "stdout",
     "output_type": "stream",
     "text": [
      "[59.] [-33.] [-12.]\n"
     ]
    }
   ],
   "source": [
    "y1 = b[0]/UT[0,0]\n",
    "y2 = (b[1] - UT[1,0]*y1)/UT[1,1]\n",
    "y3 = (b[2] - UT[2,0]*y1 - UT[2,1]*y2)/UT[2,2]\n",
    "print(y1,y2,y3)"
   ]
  },
  {
   "cell_type": "code",
   "execution_count": 21,
   "metadata": {},
   "outputs": [
    {
     "name": "stdout",
     "output_type": "stream",
     "text": [
      "x1= [6.] x2= [-5.] x3= [-4.]\n"
     ]
    }
   ],
   "source": [
    "x3 = y3 / U[2,2]\n",
    "x2 = (y2 - U[1,2]*x3)/U[1,1]\n",
    "x1 = (y1 - U[0,2]*x3 - U[0,1]*x2)/U[0,0]\n",
    "print(\"x1=\",x1,\"x2=\",x2,\"x3=\",x3)"
   ]
  },
  {
   "cell_type": "markdown",
   "metadata": {},
   "source": [
    "проверка$$45x_{1}-15x_{2}+38x_{3}=193$$"
   ]
  },
  {
   "cell_type": "code",
   "execution_count": 22,
   "metadata": {},
   "outputs": [
    {
     "data": {
      "text/plain": [
       "array([193.])"
      ]
     },
     "execution_count": 22,
     "metadata": {},
     "output_type": "execute_result"
    }
   ],
   "source": [
    "45*x1-15*x2+38*x3"
   ]
  },
  {
   "cell_type": "markdown",
   "metadata": {},
   "source": [
    "__5*.__ Написать на Python программу с реализацией одного из изученных алгоритмов решения СЛАУ."
   ]
  }
 ],
 "metadata": {
  "kernelspec": {
   "display_name": "Python 3",
   "language": "python",
   "name": "python3"
  },
  "language_info": {
   "codemirror_mode": {
    "name": "ipython",
    "version": 3
   },
   "file_extension": ".py",
   "mimetype": "text/x-python",
   "name": "python",
   "nbconvert_exporter": "python",
   "pygments_lexer": "ipython3",
   "version": "3.8.3"
  }
 },
 "nbformat": 4,
 "nbformat_minor": 4
}
