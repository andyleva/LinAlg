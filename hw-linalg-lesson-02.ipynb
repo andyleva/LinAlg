{
 "cells": [
  {
   "cell_type": "markdown",
   "id": "1a1b9930",
   "metadata": {},
   "source": [
    "## Домашняя работа №2"
   ]
  },
  {
   "cell_type": "markdown",
   "id": "77b6a64f",
   "metadata": {},
   "source": [
    "## Матрицы и матричные операции."
   ]
  },
  {
   "cell_type": "markdown",
   "id": "8c90c64f",
   "metadata": {},
   "source": [
    "#### ЧАСТЬ 1"
   ]
  },
  {
   "cell_type": "markdown",
   "id": "88700e4d",
   "metadata": {},
   "source": [
    "Все задания рекомендуется делать вручную, затем проверяя полученные результаты с использованием numpy.\n",
    "\n",
    "__1.__ Установить, какие произведения матриц $AB$ и $BA$ определены, и найти размерности полученных матриц:\n",
    "\n",
    "   а) $A$ — матрица $4\\times 2$, $B$ — матрица $4\\times 2$;\n",
    "    \n",
    "   б) $A$ — матрица $2\\times 5$, $B$ — матрица $5\\times 3$;\n",
    "    \n",
    "   в) $A$ — матрица $8\\times 3$, $B$ — матрица $3\\times 8$;\n",
    "    \n",
    "   г) $A$ — квадратная матрица $4\\times 4$, $B$ — квадратная матрица $4\\times 4$.  "
   ]
  },
  {
   "cell_type": "code",
   "execution_count": 1,
   "id": "1c72f24c",
   "metadata": {},
   "outputs": [],
   "source": [
    "import numpy as np"
   ]
  },
  {
   "cell_type": "markdown",
   "id": "3de24e7f",
   "metadata": {},
   "source": [
    "а) произведение матриц не определено, т.к. в обоих случаях количество столбцов одной матрицы не равно количеству строк другой матрицы"
   ]
  },
  {
   "cell_type": "code",
   "execution_count": 2,
   "id": "cad6ac0d",
   "metadata": {},
   "outputs": [
    {
     "name": "stdout",
     "output_type": "stream",
     "text": [
      "Матрица A:\n",
      "[[ 1  2  3  4  5]\n",
      " [ 6  7  8  9 10]]\n",
      "Матрица B:\n",
      "[[ 9 10 19]\n",
      " [11 12 20]\n",
      " [13 14 21]\n",
      " [15 16 22]\n",
      " [17 18 23]]\n",
      "Матрица AВ\n",
      "[[215 230 325]\n",
      " [540 580 850]]\n"
     ]
    }
   ],
   "source": [
    "# b) произведение ВA не определено\n",
    "# АB =>\n",
    "a = np.array([[1, 2, 3, 4, 5], [6, 7, 8, 9, 10]])\n",
    "b = np.array([[9, 10, 19], [11, 12, 20], [13, 14, 21], [15, 16, 22], [17, 18, 23]])\n",
    "print(f'Матрица A:\\n{a}')\n",
    "print(f'Матрица B:\\n{b}')\n",
    "print(f'Матрица AВ\\n{np.dot(a,b)}')"
   ]
  },
  {
   "cell_type": "code",
   "execution_count": 3,
   "id": "e13b7907",
   "metadata": {},
   "outputs": [
    {
     "name": "stdout",
     "output_type": "stream",
     "text": [
      "Матрица AB:\n",
      "[[215 230 325]\n",
      " [540 580 850]]\n"
     ]
    }
   ],
   "source": [
    "# проверка расчета вручную\n",
    "c1=[]\n",
    "c2=[]\n",
    "c=[]\n",
    "c1.append(9*1 + 11*2 + 13*3 + 15*4 + 17*5)\n",
    "c1.append(10*1 + 12*2 + 14*3 + 16*4 + 18*5)\n",
    "c1.append(19*1 + 20*2 + 21*3 + 22*4 + 23*5)\n",
    "c2.append(9*6 + 11*7 + 13*8 + 15*9 + 17*10)\n",
    "c2.append(10*6 + 12*7 + 14*8 + 16*9 + 18*10)\n",
    "c2.append(19*6 + 20*7 + 21*8 + 22*9 + 23*10)\n",
    "c.append(c1)\n",
    "c.append(c2)\n",
    "ab = np.array(c)\n",
    "print(f'Матрица AB:\\n{ab}')"
   ]
  },
  {
   "cell_type": "code",
   "execution_count": 4,
   "id": "3732e77e",
   "metadata": {},
   "outputs": [],
   "source": [
    "def new_matrix(m1,m2):\n",
    "    a=m2\n",
    "    b=m1\n",
    "    \n",
    "    print(f'Матрица A:\\n{a}')\n",
    "    print(f'Матрица B:\\n{b}')\n",
    "    iter_row = int(a.shape[0])\n",
    "    iter_col = int(a.shape[1])\n",
    "    ab=[]\n",
    "    for i in range(iter_col):\n",
    "        el=[]\n",
    "        for k in range(iter_col):\n",
    "            ss=0\n",
    "            for j in range(iter_row):            \n",
    "                    ss+=(a[j,k] * b[i,j])\n",
    "                    #print(j,i,a[j,k],i,j,b[i,j],a[j,k]*b[i,j])\n",
    "            el.append(ss)\n",
    "            #print(ss)\n",
    "        ab.append(el)\n",
    "    ab=np.array(ab)\n",
    "    return ab\n",
    "\n"
   ]
  },
  {
   "cell_type": "code",
   "execution_count": 5,
   "id": "b2c74ab0",
   "metadata": {},
   "outputs": [
    {
     "name": "stdout",
     "output_type": "stream",
     "text": [
      "Матрица A:\n",
      "[[ 9 10 19]\n",
      " [11 12 20]\n",
      " [13 14 21]\n",
      " [15 16 22]\n",
      " [17 18 23]\n",
      " [ 2 45  2]\n",
      " [ 3  7  1]\n",
      " [11 21 41]]\n",
      "Матрица B:\n",
      "[[ 1  2  3  4  5  6  7  8]\n",
      " [ 9 10 11 12 13 14 15 16]\n",
      " [17 18 19 20 21 22 23 24]]\n"
     ]
    },
    {
     "data": {
      "text/plain": [
       "array([[ 336,  717,  672],\n",
       "       [ 984, 1861, 1864],\n",
       "       [1632, 3005, 3056]])"
      ]
     },
     "execution_count": 5,
     "metadata": {},
     "output_type": "execute_result"
    }
   ],
   "source": [
    "# в) оба произведения определены\n",
    "# BA =>\n",
    "a = np.array([[9, 10, 19], [11, 12, 20], [13, 14, 21], [15, 16, 22], [17, 18, 23], [2,45,2], [3,7,1], [11,21,41]])\n",
    "b = np.array([[1, 2, 3, 4, 5, 6, 7, 8], [9, 10, 11, 12, 13, 14, 15, 16], [17, 18, 19, 20, 21, 22, 23, 24]])\n",
    "   \n",
    "new_matrix(b,a) "
   ]
  },
  {
   "cell_type": "code",
   "execution_count": 6,
   "id": "5508cab0",
   "metadata": {},
   "outputs": [
    {
     "name": "stdout",
     "output_type": "stream",
     "text": [
      "Матрица ВA:\n",
      "[[ 336  717  672]\n",
      " [ 984 1861 1864]\n",
      " [1632 3005 3056]]\n"
     ]
    }
   ],
   "source": [
    "print(f'Матрица ВA:\\n{np.dot(b,a)}')"
   ]
  },
  {
   "cell_type": "code",
   "execution_count": 7,
   "id": "db282a41",
   "metadata": {},
   "outputs": [
    {
     "name": "stdout",
     "output_type": "stream",
     "text": [
      "Матрица A:\n",
      "[[ 1  2  3  4  5  6  7  8]\n",
      " [ 9 10 11 12 13 14 15 16]\n",
      " [17 18 19 20 21 22 23 24]]\n",
      "Матрица B:\n",
      "[[ 9 10 19]\n",
      " [11 12 20]\n",
      " [13 14 21]\n",
      " [15 16 22]\n",
      " [17 18 23]\n",
      " [ 2 45  2]\n",
      " [ 3  7  1]\n",
      " [11 21 41]]\n"
     ]
    },
    {
     "data": {
      "text/plain": [
       "array([[ 422,  460,  498,  536,  574,  612,  650,  688],\n",
       "       [ 459,  502,  545,  588,  631,  674,  717,  760],\n",
       "       [ 496,  544,  592,  640,  688,  736,  784,  832],\n",
       "       [ 533,  586,  639,  692,  745,  798,  851,  904],\n",
       "       [ 570,  628,  686,  744,  802,  860,  918,  976],\n",
       "       [ 441,  490,  539,  588,  637,  686,  735,  784],\n",
       "       [  83,   94,  105,  116,  127,  138,  149,  160],\n",
       "       [ 897,  970, 1043, 1116, 1189, 1262, 1335, 1408]])"
      ]
     },
     "execution_count": 7,
     "metadata": {},
     "output_type": "execute_result"
    }
   ],
   "source": [
    "# AB =>\n",
    "new_matrix(a,b) "
   ]
  },
  {
   "cell_type": "code",
   "execution_count": 8,
   "id": "3c4cfaa8",
   "metadata": {},
   "outputs": [
    {
     "name": "stdout",
     "output_type": "stream",
     "text": [
      "Матрица AB:\n",
      "[[ 422  460  498  536  574  612  650  688]\n",
      " [ 459  502  545  588  631  674  717  760]\n",
      " [ 496  544  592  640  688  736  784  832]\n",
      " [ 533  586  639  692  745  798  851  904]\n",
      " [ 570  628  686  744  802  860  918  976]\n",
      " [ 441  490  539  588  637  686  735  784]\n",
      " [  83   94  105  116  127  138  149  160]\n",
      " [ 897  970 1043 1116 1189 1262 1335 1408]]\n"
     ]
    }
   ],
   "source": [
    "print(f'Матрица AB:\\n{np.dot(a,b)}')"
   ]
  },
  {
   "cell_type": "code",
   "execution_count": 9,
   "id": "064aaf78",
   "metadata": {},
   "outputs": [
    {
     "name": "stdout",
     "output_type": "stream",
     "text": [
      "Матрица A:\n",
      "[[ 1  2  3  4]\n",
      " [ 9 10 11 12]\n",
      " [21 22 23 24]\n",
      " [29 30 31 32]]\n",
      "Матрица B:\n",
      "[[ 9 10 19 16]\n",
      " [11 12 20 19]\n",
      " [13 14 21 24]\n",
      " [15 16 22  7]]\n"
     ]
    },
    {
     "data": {
      "text/plain": [
       "array([[ 962, 1016, 1070, 1124],\n",
       "       [1090, 1152, 1214, 1276],\n",
       "       [1276, 1348, 1420, 1492],\n",
       "       [ 824,  884,  944, 1004]])"
      ]
     },
     "execution_count": 9,
     "metadata": {},
     "output_type": "execute_result"
    }
   ],
   "source": [
    "# г)АВ=>\n",
    "a = np.array([[9, 10, 19, 16], [11, 12, 20, 19], [13, 14, 21, 24], [15, 16, 22, 7]])\n",
    "b = np.array([[1, 2, 3, 4], [9, 10, 11, 12], [21, 22, 23, 24], [29, 30, 31, 32]])\n",
    "   \n",
    "new_matrix(a,b) "
   ]
  },
  {
   "cell_type": "code",
   "execution_count": 10,
   "id": "a52444dd",
   "metadata": {},
   "outputs": [
    {
     "name": "stdout",
     "output_type": "stream",
     "text": [
      "Матрица AB:\n",
      "[[ 962 1016 1070 1124]\n",
      " [1090 1152 1214 1276]\n",
      " [1276 1348 1420 1492]\n",
      " [ 824  884  944 1004]]\n"
     ]
    }
   ],
   "source": [
    "print(f'Матрица AB:\\n{np.dot(a,b)}')"
   ]
  },
  {
   "cell_type": "code",
   "execution_count": 11,
   "id": "9373ebab",
   "metadata": {},
   "outputs": [
    {
     "name": "stdout",
     "output_type": "stream",
     "text": [
      "Матрица A:\n",
      "[[ 9 10 19 16]\n",
      " [11 12 20 19]\n",
      " [13 14 21 24]\n",
      " [15 16 22  7]]\n",
      "Матрица B:\n",
      "[[ 1  2  3  4]\n",
      " [ 9 10 11 12]\n",
      " [21 22 23 24]\n",
      " [29 30 31 32]]\n"
     ]
    },
    {
     "data": {
      "text/plain": [
       "array([[ 130,  140,  210,  154],\n",
       "       [ 514,  556,  866,  682],\n",
       "       [1090, 1180, 1850, 1474],\n",
       "       [1474, 1596, 2506, 2002]])"
      ]
     },
     "execution_count": 11,
     "metadata": {},
     "output_type": "execute_result"
    }
   ],
   "source": [
    "# BA=>   \n",
    "new_matrix(b,a) "
   ]
  },
  {
   "cell_type": "code",
   "execution_count": 12,
   "id": "9feb57f9",
   "metadata": {},
   "outputs": [
    {
     "name": "stdout",
     "output_type": "stream",
     "text": [
      "Матрица AB:\n",
      "[[ 130  140  210  154]\n",
      " [ 514  556  866  682]\n",
      " [1090 1180 1850 1474]\n",
      " [1474 1596 2506 2002]]\n"
     ]
    }
   ],
   "source": [
    "print(f'Матрица AB:\\n{np.dot(b,a)}')"
   ]
  },
  {
   "cell_type": "markdown",
   "id": "3033d313",
   "metadata": {},
   "source": [
    "__2.__ Найти сумму и произведение матриц $A=\\begin{pmatrix}\n",
    "1 & -2\\\\ \n",
    "3 & 0\n",
    "\\end{pmatrix}$ и $B=\\begin{pmatrix}\n",
    "4 & -1\\\\ \n",
    "0 & 5\n",
    "\\end{pmatrix}.$"
   ]
  },
  {
   "cell_type": "code",
   "execution_count": 13,
   "id": "74eef9f4",
   "metadata": {},
   "outputs": [
    {
     "name": "stdout",
     "output_type": "stream",
     "text": [
      "Матрица A:\n",
      "[[ 4 -1]\n",
      " [ 0  5]]\n",
      "Матрица B:\n",
      "[[ 1 -2]\n",
      " [ 3  0]]\n"
     ]
    },
    {
     "data": {
      "text/plain": [
       "array([[  4, -11],\n",
       "       [ 12,  -3]])"
      ]
     },
     "execution_count": 13,
     "metadata": {},
     "output_type": "execute_result"
    }
   ],
   "source": [
    "a = np.array([[1, -2], [3, 0]])\n",
    "b = np.array([[4, -1], [0, 5]])\n",
    "\n",
    "new_matrix(a,b) "
   ]
  },
  {
   "cell_type": "code",
   "execution_count": 14,
   "id": "b1d5c2c1",
   "metadata": {},
   "outputs": [
    {
     "name": "stdout",
     "output_type": "stream",
     "text": [
      "Матрица по numpy AB:\n",
      "[[  4 -11]\n",
      " [ 12  -3]]\n"
     ]
    }
   ],
   "source": [
    "print(f'Матрица по numpy AB:\\n{np.dot(a,b)}')"
   ]
  },
  {
   "cell_type": "code",
   "execution_count": 15,
   "id": "2a8a2a03",
   "metadata": {},
   "outputs": [
    {
     "data": {
      "text/plain": [
       "array([[ 5, -3],\n",
       "       [ 3,  5]])"
      ]
     },
     "execution_count": 15,
     "metadata": {},
     "output_type": "execute_result"
    }
   ],
   "source": [
    "# сумма матриц\n",
    "# c11 = a11+b11 = 4+1=5\n",
    "# c12 = a12+b12 = -1 + (-2) = -3\n",
    "# c21 = a21+b21 = 0+3 = 3\n",
    "# c22 = a22+b22 = 5 - 0 = 5\n",
    "c = np.array([[5, -3], [3, 5]])\n",
    "c"
   ]
  },
  {
   "cell_type": "code",
   "execution_count": 16,
   "id": "f5953c86",
   "metadata": {},
   "outputs": [
    {
     "name": "stdout",
     "output_type": "stream",
     "text": [
      "Матрица С = A + B\n",
      "[[ 5 -3]\n",
      " [ 3  5]]\n"
     ]
    }
   ],
   "source": [
    "print(f'Матрица С = A + B\\n{a + b}')"
   ]
  },
  {
   "cell_type": "markdown",
   "id": "c2f783d9",
   "metadata": {},
   "source": [
    "__3.__ Из закономерностей сложения и умножения матриц на число можно сделать вывод, что матрицы одного размера образуют линейное пространство. Вычислить линейную комбинацию $3A-2B+4C$ для матриц $A=\\begin{pmatrix}\n",
    "1 & 7\\\\ \n",
    "3 & -6\n",
    "\\end{pmatrix}$, $B=\\begin{pmatrix}\n",
    "0 & 5\\\\ \n",
    "2 & -1\n",
    "\\end{pmatrix}$, $C=\\begin{pmatrix}\n",
    "2 & -4\\\\ \n",
    "1 & 1\n",
    "\\end{pmatrix}.$"
   ]
  },
  {
   "cell_type": "code",
   "execution_count": 17,
   "id": "1daddad9",
   "metadata": {},
   "outputs": [
    {
     "name": "stdout",
     "output_type": "stream",
     "text": [
      "[[  3  21]\n",
      " [  9 -18]]\n",
      "[[  0 -10]\n",
      " [ -4   2]]\n",
      "[[  8 -16]\n",
      " [  4   4]]\n",
      "Линейная комбинация:\n",
      "[[ 11  -5]\n",
      " [  9 -12]]\n"
     ]
    }
   ],
   "source": [
    "a = np.array([[1,7], [3,-6]])\n",
    "b = np.array([[0,5], [2,-1]])\n",
    "c = np.array([[2,-4], [1,1]])\n",
    "a3 = 3*a\n",
    "print(a3)\n",
    "b2 = -2*b\n",
    "print(b2)\n",
    "c4 = 4*c\n",
    "print(c4)\n",
    "print('Линейная комбинация:')\n",
    "print(a3+b2+c4)"
   ]
  },
  {
   "cell_type": "markdown",
   "id": "ae217f57",
   "metadata": {},
   "source": [
    "__4.__ Дана матрица $A=\\begin{pmatrix}\n",
    "4 & 1\\\\ \n",
    "5 & -2\\\\ \n",
    "2 & 3\n",
    "\\end{pmatrix}$.\n",
    "Вычислить $AA^{T}$ и $A^{T}A$."
   ]
  },
  {
   "cell_type": "code",
   "execution_count": 18,
   "id": "26aad397",
   "metadata": {},
   "outputs": [
    {
     "data": {
      "text/plain": [
       "array([[ 4,  5,  2],\n",
       "       [ 1, -2,  3]])"
      ]
     },
     "execution_count": 18,
     "metadata": {},
     "output_type": "execute_result"
    }
   ],
   "source": [
    "a = np.array([[4,1], [5,-2], [2,3]])\n",
    "a.T"
   ]
  },
  {
   "cell_type": "code",
   "execution_count": 19,
   "id": "d1ab818f",
   "metadata": {},
   "outputs": [
    {
     "name": "stdout",
     "output_type": "stream",
     "text": [
      "Матрица по numpy AT*A:\n",
      "[[45  0]\n",
      " [ 0 14]]\n"
     ]
    }
   ],
   "source": [
    "print(f'Матрица по numpy AT*A:\\n{np.dot(a.T,a)}')"
   ]
  },
  {
   "cell_type": "code",
   "execution_count": 20,
   "id": "b22ee300",
   "metadata": {},
   "outputs": [
    {
     "name": "stdout",
     "output_type": "stream",
     "text": [
      "Матрица A:\n",
      "[[ 4  1]\n",
      " [ 5 -2]\n",
      " [ 2  3]]\n",
      "Матрица B:\n",
      "[[ 4  5  2]\n",
      " [ 1 -2  3]]\n"
     ]
    },
    {
     "data": {
      "text/plain": [
       "array([[45,  0],\n",
       "       [ 0, 14]])"
      ]
     },
     "execution_count": 20,
     "metadata": {},
     "output_type": "execute_result"
    }
   ],
   "source": [
    "new_matrix(a.T,a) "
   ]
  },
  {
   "cell_type": "code",
   "execution_count": 21,
   "id": "7ce1ce2b",
   "metadata": {},
   "outputs": [
    {
     "name": "stdout",
     "output_type": "stream",
     "text": [
      "Матрица по numpy A*AT:\n",
      "[[17 18 11]\n",
      " [18 29  4]\n",
      " [11  4 13]]\n"
     ]
    }
   ],
   "source": [
    "print(f'Матрица по numpy A*AT:\\n{np.dot(a, a.T)}')"
   ]
  },
  {
   "cell_type": "code",
   "execution_count": 22,
   "id": "1c6304f7",
   "metadata": {},
   "outputs": [
    {
     "name": "stdout",
     "output_type": "stream",
     "text": [
      "Матрица A:\n",
      "[[ 4  5  2]\n",
      " [ 1 -2  3]]\n",
      "Матрица B:\n",
      "[[ 4  1]\n",
      " [ 5 -2]\n",
      " [ 2  3]]\n"
     ]
    },
    {
     "data": {
      "text/plain": [
       "array([[17, 18, 11],\n",
       "       [18, 29,  4],\n",
       "       [11,  4, 13]])"
      ]
     },
     "execution_count": 22,
     "metadata": {},
     "output_type": "execute_result"
    }
   ],
   "source": [
    "new_matrix(a,a.T)"
   ]
  },
  {
   "cell_type": "markdown",
   "id": "ddbf8b47",
   "metadata": {},
   "source": [
    "__5*.__ Написать на Python функцию для перемножения двух произвольных матриц, не используя NumPy."
   ]
  },
  {
   "cell_type": "markdown",
   "id": "673ba0d8",
   "metadata": {},
   "source": [
    "#### ЧАСТЬ 2"
   ]
  },
  {
   "cell_type": "markdown",
   "id": "994e7753",
   "metadata": {},
   "source": [
    "Все задания рекомендуется выполнять вручную, затем проверяя полученные результаты с использованием Numpy.\n",
    "\n",
    "__1.__ Вычислить определитель:\n",
    "\n",
    "   a)\n",
    "\n",
    "$$\\begin{vmatrix}\n",
    "sinx & -cosx\\\\ \n",
    "cosx & sinx\n",
    "\\end{vmatrix};$$\n",
    "\n",
    "   б)\n",
    "    \n",
    "$$\\begin{vmatrix}\n",
    "4 & 2 & 3\\\\ \n",
    "0 & 5 & 1\\\\ \n",
    "0 & 0 & 9\n",
    "\\end{vmatrix};$$\n",
    "    \n",
    "   в)\n",
    "\n",
    "$$\\begin{vmatrix}\n",
    "1 & 2 & 3\\\\ \n",
    "4 & 5 & 6\\\\ \n",
    "7 & 8 & 9\n",
    "\\end{vmatrix}.$$"
   ]
  },
  {
   "cell_type": "markdown",
   "id": "c1220199",
   "metadata": {},
   "source": [
    "a)\n",
    "$$\\begin{vmatrix}\n",
    "sinx & -cosx\\\\ \n",
    "cosx & sinx\n",
    "\\end{vmatrix} = sinx*sinx - (cosx*-cosx)=sin^2x+cos^2x=1;$$"
   ]
  },
  {
   "cell_type": "code",
   "execution_count": 23,
   "id": "c60d1a55",
   "metadata": {},
   "outputs": [
    {
     "name": "stdout",
     "output_type": "stream",
     "text": [
      "Определитель:\n",
      "180\n"
     ]
    }
   ],
   "source": [
    "#б)\n",
    "a = np.array([[4, 2, 3], [0, 5, 1], [0, 0, 9]])\n",
    "print(f'Определитель:\\n{np.linalg.det(a):.0f}')"
   ]
  },
  {
   "cell_type": "markdown",
   "id": "12cc647a",
   "metadata": {},
   "source": [
    "$$\\begin{vmatrix}\n",
    "4 & 2 & 3\\\\ \n",
    "0 & 5 & 1\\\\ \n",
    "0 & 0 & 9\n",
    "\\end{vmatrix}=\n",
    "4\\cdot\\begin{vmatrix}\n",
    "5 & 1\\\\ \n",
    "0 & 9\n",
    "\\end{vmatrix} - \n",
    "2\\cdot\\begin{vmatrix}\n",
    "0 & 1\\\\ \n",
    "0 & 9\n",
    "\\end{vmatrix}+\n",
    "3\\cdot\\begin{vmatrix}\n",
    "0 & 5\\\\ \n",
    "0 & 0\n",
    "\\end{vmatrix}=4*(5*9-0*1)-2*(0*9-0*1)+3*(0*0-0*5)=4*45-0+0=180;$$\n",
    "$$ или = 4*5*9 =180$$"
   ]
  },
  {
   "cell_type": "code",
   "execution_count": 24,
   "id": "616e5283",
   "metadata": {},
   "outputs": [
    {
     "name": "stdout",
     "output_type": "stream",
     "text": [
      "Определитель:\n",
      "-0\n"
     ]
    }
   ],
   "source": [
    "#в)\n",
    "a = np.array([[1, 2, 3], [4, 5, 6], [7, 8, 9]])\n",
    "print(f'Определитель:\\n{np.linalg.det(a):.0f}')"
   ]
  },
  {
   "cell_type": "markdown",
   "id": "da8a547d",
   "metadata": {},
   "source": [
    "$$\\begin{vmatrix}\n",
    "1 & 2 & 3\\\\ \n",
    "4 & 5 & 6\\\\ \n",
    "7 & 8 & 9\n",
    "\\end{vmatrix}=\n",
    "1\\cdot\\begin{vmatrix}\n",
    "5 & 6\\\\ \n",
    "8 & 9\n",
    "\\end{vmatrix} - \n",
    "2\\cdot\\begin{vmatrix}\n",
    "4 & 6\\\\ \n",
    "7 & 9\n",
    "\\end{vmatrix}+\n",
    "3\\cdot\\begin{vmatrix}\n",
    "4 & 5\\\\ \n",
    "7 & 8\n",
    "\\end{vmatrix}=1*(5*9-8*6)-2*(4*9-7*6)+3*(4*8-7*5)=\n",
    "1*(45-48)-2*(36-42)+3*(32-35)=-3+12-9=0;$$\n"
   ]
  },
  {
   "cell_type": "markdown",
   "id": "f354be0a",
   "metadata": {},
   "source": [
    "__2.__ Определитель матрицы $A$ равен $4$. Найти:\n",
    "\n",
    "   а) $det(A^{2})$=> представим $det(A*A) = det(A)*det(A)=4*4=16$;\n",
    "    \n",
    "   б) $det(A^{T}) $ => Определитель транспонированной_ матрицы_ равен_ определителю исходной = 4;\n",
    "    \n",
    "   в) $det(2A)$=> Если A-матрица n × n, а k-любая константа, то $det(kA)=k^n(det(A))$. Поэтому $det(2A) = 2^3*4 = 24.$\n",
    "  "
   ]
  },
  {
   "cell_type": "markdown",
   "id": "e8e42442",
   "metadata": {},
   "source": [
    "__3.__  Доказать, что матрица\n",
    "\n",
    "$$\\begin{pmatrix}\n",
    "-2 & 7 & -3\\\\ \n",
    "4 & -14 & 6\\\\ \n",
    "-3 & 7 & 13\n",
    "\\end{pmatrix}$$\n",
    "   \n",
    "вырожденная.\n",
    "\n"
   ]
  },
  {
   "cell_type": "code",
   "execution_count": 25,
   "id": "f7ea79ff",
   "metadata": {},
   "outputs": [
    {
     "name": "stdout",
     "output_type": "stream",
     "text": [
      "Определитель:\n",
      "0\n"
     ]
    }
   ],
   "source": [
    "a = np.array([[-2, 7, -3], [4, -14, 6], [-3, 7, 13]])\n",
    "print(f'Определитель:\\n{np.linalg.det(a):.0f}')"
   ]
  },
  {
   "cell_type": "markdown",
   "id": "c45f3cdf",
   "metadata": {},
   "source": [
    "Ответ: матрица вырожденная, т.к. определитель равен 0"
   ]
  },
  {
   "cell_type": "markdown",
   "id": "51aabed7",
   "metadata": {},
   "source": [
    "__4.__ Найти ранг матрицы:\n",
    "\n",
    "   а) $\\begin{pmatrix}\n",
    "1 & 2 & 3\\\\ \n",
    "1 & 1 & 1\\\\ \n",
    "2 & 3 & 4\n",
    "\\end{pmatrix};$\n",
    "\n",
    "   б) $\\begin{pmatrix}\n",
    "0 & 0 & 2 & 1\\\\ \n",
    "0 & 0 & 2 & 2\\\\ \n",
    "0 & 0 & 4 & 3\\\\ \n",
    "2 & 3 & 5 & 6\n",
    "\\end{pmatrix}.$"
   ]
  },
  {
   "cell_type": "code",
   "execution_count": 26,
   "id": "b445cc2f",
   "metadata": {},
   "outputs": [
    {
     "name": "stdout",
     "output_type": "stream",
     "text": [
      "Ранг матрицы: 2\n"
     ]
    }
   ],
   "source": [
    "x = [1, 2, 3]\n",
    "y = [1, 1, 1]\n",
    "z = [2, 3, 4]\n",
    "\n",
    "a = np.array([x, y, z])\n",
    "r = np.linalg.matrix_rank(a)\n",
    "\n",
    "print(f'Ранг матрицы: {r}')"
   ]
  },
  {
   "cell_type": "code",
   "execution_count": 27,
   "id": "9c14e2ed",
   "metadata": {},
   "outputs": [
    {
     "name": "stdout",
     "output_type": "stream",
     "text": [
      "Ранг матрицы: 3\n"
     ]
    }
   ],
   "source": [
    "x = [0, 0, 2, 1]\n",
    "y = [0, 0, 2, 2]\n",
    "z = [0, 0, 4, 3]\n",
    "x = [2, 3, 5, 6]\n",
    "\n",
    "a = np.array([x, y, z, x])\n",
    "r = np.linalg.matrix_rank(a)\n",
    "\n",
    "print(f'Ранг матрицы: {r}')"
   ]
  }
 ],
 "metadata": {
  "kernelspec": {
   "display_name": "Python 3",
   "language": "python",
   "name": "python3"
  },
  "language_info": {
   "codemirror_mode": {
    "name": "ipython",
    "version": 3
   },
   "file_extension": ".py",
   "mimetype": "text/x-python",
   "name": "python",
   "nbconvert_exporter": "python",
   "pygments_lexer": "ipython3",
   "version": "3.8.8"
  }
 },
 "nbformat": 4,
 "nbformat_minor": 5
}
