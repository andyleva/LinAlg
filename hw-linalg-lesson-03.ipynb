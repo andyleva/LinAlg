{
 "cells": [
  {
   "cell_type": "markdown",
   "id": "b08a57a2",
   "metadata": {},
   "source": [
    "## Домашняя работа №2\n",
    "#### Линейные преобразования"
   ]
  },
  {
   "cell_type": "markdown",
   "id": "03d09c4c",
   "metadata": {},
   "source": [
    "__1.__ Найти собственные векторы и собственные значения для линейного оператора, заданного матрицей\n",
    "\n",
    "$$A=\\begin{pmatrix}\n",
    "-1 & -6\\\\ \n",
    "2 & 6\n",
    "\\end{pmatrix}.$$"
   ]
  },
  {
   "cell_type": "markdown",
   "id": "6fe47c9e",
   "metadata": {},
   "source": [
    "$$Ae_{1}=-1\\cdot e_{1}+2\\cdot e_{2},$$\n",
    "\n",
    "$$Ae_{2}=-6\\cdot e_{1}+6\\cdot e_{2}.$$\n",
    "\n",
    "$$det(\\textbf{A}-\\lambda\\textbf{I})=0$$\n",
    "\n",
    "Для $n=2$\n",
    "\n",
    "$$det(\\textbf{A}-\\lambda\\textbf{I})=\\begin{vmatrix}\n",
    "a_{11}-\\lambda & a_{12}\\\\ \n",
    "a_{21} & a_{22}-\\lambda\n",
    "\\end{vmatrix} = \\lambda^{2}-(a_{11}+a_{22})\\lambda+(a_{11}a_{22}-a_{12}a_{21}).$$"
   ]
  },
  {
   "cell_type": "markdown",
   "id": "d63be567",
   "metadata": {},
   "source": [
    "\n",
    "$$det(\\textbf{A}-\\lambda\\textbf{I})=\\begin{vmatrix}\n",
    "-1-\\lambda & -6\\\\ \n",
    "2 & 6-\\lambda\n",
    "\\end{vmatrix} =(-1-\\lambda)(6-\\lambda)-2\\cdot(-6) =  $$"
   ]
  },
  {
   "cell_type": "markdown",
   "id": "f43ace34",
   "metadata": {},
   "source": [
    "$$ = -6-6\\lambda+\\lambda+\\lambda^2+12 => \\lambda^2-5\\lambda+6 = 0$$\n",
    "решаем уравнение и собственные значение ровны $$\\lambda=3, \\lambda=2$$"
   ]
  },
  {
   "cell_type": "markdown",
   "id": "3e0892e8",
   "metadata": {},
   "source": [
    "найдем собственные векторы, подставив полученное собственное значение в выражение $\\textbf{A}x=\\lambda x$:"
   ]
  },
  {
   "cell_type": "markdown",
   "id": "8048988d",
   "metadata": {},
   "source": [
    "$$\\begin{pmatrix}\n",
    "-1 & -6\\\\ \n",
    "2 & 6\n",
    "\\end{pmatrix}\n",
    "\\begin{pmatrix}\n",
    "x_{1}\\\\ \n",
    "x_{2}\n",
    "\\end{pmatrix}=\n",
    "\\lambda\n",
    "\\begin{pmatrix}\n",
    "x_{1}\\\\ \n",
    "x_{2}\n",
    "\\end{pmatrix}.\n",
    "$$"
   ]
  },
  {
   "cell_type": "markdown",
   "id": "c96ed43d",
   "metadata": {},
   "source": [
    "1)\n",
    "$$\\begin{cases}\n",
    "-1\\cdot x_{1} + (-6)\\cdot x_{2}= 2\\cdot x_{1}, \\\\\n",
    "2\\cdot x_{1} + 6\\cdot x_{2}= 2\\cdot x_{2}.\n",
    "\\end{cases}$$ \n",
    "\n"
   ]
  },
  {
   "cell_type": "markdown",
   "id": "86539ac2",
   "metadata": {},
   "source": [
    "$$\\begin{cases}\n",
    "-3\\cdot x_{1} - 6\\cdot x_{2}= 0, \\\\\n",
    "2\\cdot x_{1} + 4\\cdot x_{2}= 0.\n",
    "\\end{cases}$$ "
   ]
  },
  {
   "cell_type": "markdown",
   "id": "d0624790",
   "metadata": {},
   "source": [
    "$$\\begin{cases}\n",
    "x_{1} =-2\\cdot x_{2}, \\\\\n",
    "x_{1}= -2\\cdot x_{2}.\n",
    "\\end{cases}$$ "
   ]
  },
  {
   "cell_type": "markdown",
   "id": "e0dfaa02",
   "metadata": {},
   "source": [
    "$x_{2}$ подбираем таким образом, чтобы он был целым и первая $x_{1}$ координата – целой, положительной и как можно меньше.\n",
    "\n",
    "получается беконечно много собственных векторов, поэтому укажем один из них: $x_{1}=2, x_{2}=-1$\n",
    "\n",
    "подставив в уравнение получаем 0"
   ]
  },
  {
   "cell_type": "markdown",
   "id": "0ae42c5e",
   "metadata": {},
   "source": [
    "2)\n",
    "$$\\begin{cases}\n",
    "-1\\cdot x_{1} + (-6)\\cdot x_{2}= 3\\cdot x_{1}, \\\\\n",
    "2\\cdot x_{1} + 6\\cdot x_{2}= 3\\cdot x_{2}.\n",
    "\\end{cases}$$ "
   ]
  },
  {
   "cell_type": "markdown",
   "id": "c19e8fd4",
   "metadata": {},
   "source": [
    "$$\\begin{cases}\n",
    "-4\\cdot x_{1} - 6\\cdot x_{2}= 0, \\\\\n",
    "2\\cdot x_{1} + 3\\cdot x_{2}= 0.\n",
    "\\end{cases}$$ "
   ]
  },
  {
   "cell_type": "markdown",
   "id": "f0534107",
   "metadata": {},
   "source": [
    "$$\\begin{cases}\n",
    "x_{1} =-3/2\\cdot x_{2}, \\\\\n",
    "x_{1}= -3/2\\cdot x_{2}.\n",
    "\\end{cases}$$ "
   ]
  },
  {
   "cell_type": "markdown",
   "id": "dbbf0436",
   "metadata": {},
   "source": [
    "$x_{2}$ подбираем таким образом, чтобы он был целым и первая $x_{1}$ координата – целой, положительной и как можно меньше.\n",
    "\n",
    "получается беконечно много собственных векторов, поэтому укажем один из них: $x_{1}=3, x_{2}=-2$\n",
    "\n",
    "подставив в уравнение получаем 0"
   ]
  },
  {
   "cell_type": "markdown",
   "id": "e1234289",
   "metadata": {},
   "source": [
    "Ответ: собственные числа: $\\lambda=3, \\lambda=2$,\n",
    "собственные векторы: $\\begin{pmatrix}\n",
    "2\\\\ \n",
    "-1\n",
    "\\end{pmatrix}\n",
    "$;\n",
    "$\\begin{pmatrix}\n",
    "3\\\\ \n",
    "-2\n",
    "\\end{pmatrix}\n",
    "$."
   ]
  },
  {
   "cell_type": "code",
   "execution_count": 1,
   "id": "f8a8b323",
   "metadata": {},
   "outputs": [],
   "source": [
    "#решение через функции\n",
    "import numpy as np\n",
    "np.set_printoptions(precision=2, suppress=True)"
   ]
  },
  {
   "cell_type": "code",
   "execution_count": 2,
   "id": "8b23a2c9",
   "metadata": {},
   "outputs": [
    {
     "name": "stdout",
     "output_type": "stream",
     "text": [
      "Матрица A:\n",
      "[[-1 -6]\n",
      " [ 2  6]]\n",
      "Собственные значения:\n",
      "[2. 3.]\n",
      "Собственные векторы:\n",
      "[[-0.89  0.83]\n",
      " [ 0.45 -0.55]]\n"
     ]
    }
   ],
   "source": [
    "a = np.array([[-1, -6], [2, 6]])\n",
    "w, v = np.linalg.eig(a)\n",
    " \n",
    "print(f'Матрица A:\\n{a}')\n",
    "print(f'Собственные значения:\\n{w}')\n",
    "print(f'Собственные векторы:\\n{v}')"
   ]
  },
  {
   "cell_type": "markdown",
   "id": "e63e8f51",
   "metadata": {},
   "source": [
    "__2.__ Дан оператор поворота на 180 градусов, задаваемый матрицей \n",
    "\n",
    "$$A=\\begin{pmatrix}\n",
    "-1 & 0\\\\ \n",
    "0 & -1\n",
    "\\end{pmatrix}.$$\n",
    "\n",
    "Показать, что __любой__ вектор является для него собственным."
   ]
  },
  {
   "cell_type": "code",
   "execution_count": 3,
   "id": "1c4977ac",
   "metadata": {},
   "outputs": [],
   "source": [
    "import numpy as np"
   ]
  },
  {
   "cell_type": "code",
   "execution_count": 4,
   "id": "b38675cc",
   "metadata": {},
   "outputs": [
    {
     "name": "stdout",
     "output_type": "stream",
     "text": [
      "Матрица A:\n",
      "[[1 1]\n",
      " [2 2]]\n",
      "Матрица B:\n",
      "[[-1  0]\n",
      " [ 0 -1]]\n",
      "Матрица AВ\n",
      "[[-1 -1]\n",
      " [-2 -2]]\n"
     ]
    }
   ],
   "source": [
    "a = np.array([[1, 1], [2, 2]])\n",
    "b = np.array([[-1,0],[0,-1]])\n",
    "print(f'Матрица A:\\n{a}')\n",
    "print(f'Матрица B:\\n{b}')\n",
    "c=np.dot(a,b)\n",
    "print(f'Матрица AВ\\n{c}')"
   ]
  },
  {
   "cell_type": "markdown",
   "id": "6f429cc2",
   "metadata": {},
   "source": [
    "Вначале изобразим базис из векторов $e_{1}=(1,1)$ и $e_{2}=(2,2)$ в двумерном пространстве:"
   ]
  },
  {
   "cell_type": "code",
   "execution_count": 5,
   "id": "55741466",
   "metadata": {},
   "outputs": [
    {
     "data": {
      "image/png": "[encoded data removed]",
      "text/plain": [
       "<Figure size 432x288 with 1 Axes>"
      ]
     },
     "metadata": {
      "needs_background": "light"
     },
     "output_type": "display_data"
    }
   ],
   "source": [
    "import matplotlib.pyplot as plt\n",
    "fig = plt.figure()\n",
    "ax = fig.add_subplot(1,1,1)\n",
    "0\n",
    "ax.spines['left'].set_position('zero')\n",
    "ax.spines['bottom'].set_position('zero')\n",
    "\n",
    "ax.spines['right'].set_color('none')\n",
    "ax.spines['top'].set_color('none')\n",
    "\n",
    "plt.axis('scaled')\n",
    "plt.xlim(-2, 2)\n",
    "plt.ylim(-2, 2)\n",
    "\n",
    "ax.arrow(0, 0, a[0,0], a[0,1], head_width=0.15, head_length=0.2, length_includes_head=True, facecolor='black')\n",
    "ax.arrow(0, 0, a[1,0], a[1,1], head_width=0.15, head_length=0.2, length_includes_head=True, facecolor='black')\n",
    "ax.annotate(\"e1\", xy=(0.8, 0.3))\n",
    "ax.annotate(\"e2\", xy=(0.2, 0.8))\n",
    "\n",
    "plt.show()"
   ]
  },
  {
   "cell_type": "markdown",
   "id": "ea9696e4",
   "metadata": {},
   "source": [
    "Применим к нему произвольное линейное преобразование на 180гр, заданное матрицей\n",
    "\n",
    "$$A=\\begin{pmatrix}\n",
    "-1 & 0\\\\ \n",
    "0 & -1\n",
    "\\end{pmatrix}.$$\n",
    "\n",
    "\n",
    "Изобразим получившийся базис:"
   ]
  },
  {
   "cell_type": "code",
   "execution_count": 6,
   "id": "8f80904d",
   "metadata": {},
   "outputs": [
    {
     "data": {
      "image/png": "[encoded data removed]",
      "text/plain": [
       "<Figure size 432x288 with 1 Axes>"
      ]
     },
     "metadata": {
      "needs_background": "light"
     },
     "output_type": "display_data"
    }
   ],
   "source": [
    "fig = plt.figure()\n",
    "ax = fig.add_subplot(1,1,1)\n",
    "\n",
    "ax.spines['left'].set_position('zero')\n",
    "ax.spines['bottom'].set_position('zero')\n",
    "\n",
    "ax.spines['right'].set_color('none')\n",
    "ax.spines['top'].set_color('none')\n",
    "\n",
    "plt.axis('scaled')\n",
    "plt.xlim(-2, 2)\n",
    "plt.ylim(-2, 2)\n",
    "\n",
    "ax.arrow(0, 0, a[0,0], a[0,1], head_width=0.15, head_length=0.2, length_includes_head=True, facecolor='blue')\n",
    "ax.arrow(0, 0, a[1,0], a[1,1], head_width=0.15, head_length=0.2, length_includes_head=True, facecolor='blue')\n",
    "ax.arrow(0, 0, c[0,0], c[0,1], head_width=0.15, head_length=0.2, length_includes_head=True, facecolor='red')\n",
    "ax.arrow(0, 0, c[1,0], c[1,1], head_width=0.15, head_length=0.2, length_includes_head=True, facecolor='red')\n",
    "ax.annotate(\"e2\", xy=(-0.8, 0.3))\n",
    "ax.annotate(\"e1\", xy=(0.2, 0.8))\n",
    "\n",
    "plt.show()"
   ]
  },
  {
   "cell_type": "markdown",
   "id": "355452a1",
   "metadata": {},
   "source": [
    "Ответ: исходя из графика, любой вектор, повернутый на 180гр, являестся собсвтенным вектором, т.к. и старый и повернутый вектора лежат на одной прямой и отвечают равенству: $\\textbf{A}x=\\lambda x.$"
   ]
  },
  {
   "cell_type": "markdown",
   "id": "28058d25",
   "metadata": {},
   "source": [
    "__3.__ Пусть линейный оператор задан матрицей\n",
    "\n",
    "$$A=\\begin{pmatrix}\n",
    "1 & 1\\\\ \n",
    "-1 & 3\n",
    "\\end{pmatrix}.$$\n",
    "\n",
    "Установить, является ли вектор $x=(1,1)$ собственным вектором этого линейного оператора."
   ]
  },
  {
   "cell_type": "markdown",
   "id": "a58759fd",
   "metadata": {},
   "source": [
    "$$\\begin{pmatrix}\n",
    "1 & 1\\\\ \n",
    "-1 & 3\n",
    "\\end{pmatrix}\n",
    "\\begin{pmatrix}\n",
    "1\\\\ \n",
    "1 \n",
    "\\end{pmatrix}=\n",
    "\\lambda\n",
    "\\begin{pmatrix}\n",
    "1\\\\ \n",
    "1\n",
    "\\end{pmatrix}.\n",
    "$$\n",
    "\n",
    "Из этого будет следовать, что \n",
    "\n",
    "$$\\begin{cases}\n",
    "1+1=1\\cdot\\lambda \\\\ \n",
    "-1+3 = 1\\cdot \\lambda\n",
    "\\end{cases}\n",
    "\\Rightarrow\n",
    "\\begin{cases}\n",
    "\\lambda=2\\\\ \n",
    "\\lambda=2\n",
    "\\end{cases}.$$\n",
    "Ответ: вектор $x=(1,1)$ является собственным вектором этого линейного оператора"
   ]
  },
  {
   "cell_type": "markdown",
   "id": "a4124c05",
   "metadata": {},
   "source": [
    "**4.** Пусть линейный оператор задан матрицей\n",
    "\n",
    "$$A=\\begin{pmatrix} 0 & 3 & 0\\\\ 3 & 0 & 0\\\\ 0 & 0 & 3 \\end{pmatrix}.$$\n",
    "\n",
    "Установить, является ли вектор $x=(3, -3, -4)$ собственным вектором этого линейного оператора."
   ]
  },
  {
   "cell_type": "markdown",
   "id": "a26c92d7",
   "metadata": {},
   "source": [
    "$$\\begin{pmatrix}\n",
    "0 & 3 & 0\\\\ \n",
    "3 & 0 & 0\\\\\n",
    "0 & 0 & 3\n",
    "\\end{pmatrix}\n",
    "\\begin{pmatrix}\n",
    "3\\\\\n",
    "-3\\\\\n",
    "-4\n",
    "\\end{pmatrix}=\n",
    "\\lambda\n",
    "\\begin{pmatrix}\n",
    "3\\\\\n",
    "-3\\\\\n",
    "-4\n",
    "\\end{pmatrix}\n",
    "$$\n",
    "\n",
    "$$\\Rightarrow\n",
    "\\begin{cases}\n",
    "0+9+0=3\\lambda=> \\lambda=3\\\\\n",
    "-9+0+0=-3\\lambda=> \\lambda=3\\\\\n",
    "0+0-12=-4\\lambda=> \\lambda=3\\\n",
    "\\end{cases}\n",
    "$$\n",
    "Ответ:вектор $x=(3, -3, -4)$ является собственным вектором этого линейного оператора"
   ]
  },
  {
   "cell_type": "code",
   "execution_count": null,
   "id": "de234426",
   "metadata": {},
   "outputs": [],
   "source": []
  }
 ],
 "metadata": {
  "kernelspec": {
   "display_name": "Python 3",
   "language": "python",
   "name": "python3"
  },
  "language_info": {
   "codemirror_mode": {
    "name": "ipython",
    "version": 3
   },
   "file_extension": ".py",
   "mimetype": "text/x-python",
   "name": "python",
   "nbconvert_exporter": "python",
   "pygments_lexer": "ipython3",
   "version": "3.8.8"
  }
 },
 "nbformat": 4,
 "nbformat_minor": 5
}
